{
  "metadata": {
    "kernelspec": {
      "name": "python",
      "display_name": "Pyolite",
      "language": "python"
    },
    "language_info": {
      "codemirror_mode": {
        "name": "python",
        "version": 3
      },
      "file_extension": ".py",
      "mimetype": "text/x-python",
      "name": "python",
      "nbconvert_exporter": "python",
      "pygments_lexer": "ipython3",
      "version": "3.8"
    },
    "colab": {
      "name": "Ife 12.ipynb",
      "provenance": []
    }
  },
  "nbformat_minor": 5,
  "nbformat": 4,
  "cells": [
    {
      "cell_type": "code",
      "source": [
        "import numpy as np\n",
        "import pandas as pd\n",
        "import seaborn as sns\n",
        "import scipy as stats\n",
        "from sklearn.linear_model import LinearRegression\n",
        "from sklearn.metrics import mean_squared_error\n",
        "from sklearn.neighbors import KNeighborsRegressor\n",
        "from sklearn.preprocessing import StandardScaler\n",
        "from sklearn.pipeline import Pipeline\n",
        "from sklearn.preprocessing import LabelEncoder\n",
        "from sklearn.model_selection import train_test_split\n",
        "from sklearn.ensemble import VotingRegressor"
      ],
      "metadata": {
        "trusted": true,
        "id": "dd48a5d7"
      },
      "execution_count": 117,
      "outputs": [],
      "id": "dd48a5d7"
    },
    {
      "cell_type": "code",
      "source": [
        "train = pd.read_csv('Train.csv')\n",
        "test = pd.read_csv('Test.csv')\n",
        "sample = pd.read_csv('SampleSubmission.csv')"
      ],
      "metadata": {
        "trusted": true,
        "id": "376e06bf"
      },
      "execution_count": 118,
      "outputs": [],
      "id": "376e06bf"
    },
    {
      "cell_type": "code",
      "source": [
        "sns.boxplot(train['Amount (Million Naira)'])"
      ],
      "metadata": {
        "colab": {
          "base_uri": "https://localhost:8080/",
          "height": 351
        },
        "id": "N5wxQ66ZNbDe",
        "outputId": "7202b91a-3d39-4e69-a67d-4822eac2b73a"
      },
      "id": "N5wxQ66ZNbDe",
      "execution_count": 119,
      "outputs": [
        {
          "output_type": "stream",
          "name": "stderr",
          "text": [
            "/usr/local/lib/python3.7/dist-packages/seaborn/_decorators.py:43: FutureWarning: Pass the following variable as a keyword arg: x. From version 0.12, the only valid positional argument will be `data`, and passing other arguments without an explicit keyword will result in an error or misinterpretation.\n",
            "  FutureWarning\n"
          ]
        },
        {
          "output_type": "execute_result",
          "data": {
            "text/plain": [
              "<matplotlib.axes._subplots.AxesSubplot at 0x7faf99294310>"
            ]
          },
          "metadata": {},
          "execution_count": 119
        },
        {
          "output_type": "display_data",
          "data": {
            "text/plain": [
              "<Figure size 432x288 with 1 Axes>"
            ],
            "image/png": "[encoded data removed]"
          },
          "metadata": {
            "needs_background": "light"
          }
        }
      ]
    },
    {
      "cell_type": "code",
      "source": [
        "mid_amount =  train.loc[train['Amount (Million Naira)'] <= 100, 'Amount (Million Naira)'].median()"
      ],
      "metadata": {
        "id": "KgyxqkwvNkEz"
      },
      "id": "KgyxqkwvNkEz",
      "execution_count": 120,
      "outputs": []
    },
    {
      "cell_type": "code",
      "source": [
        "train.loc[train['Amount (Million Naira)'] > 100, 'Amount (Million Naira)']= np.nan"
      ],
      "metadata": {
        "id": "OBV2_5vNRirt"
      },
      "id": "OBV2_5vNRirt",
      "execution_count": 121,
      "outputs": []
    },
    {
      "cell_type": "code",
      "source": [
        "train['Amount (Million Naira)'].fillna(mid_amount, inplace = True)"
      ],
      "metadata": {
        "id": "xDRqXe3GSNqm"
      },
      "id": "xDRqXe3GSNqm",
      "execution_count": 122,
      "outputs": []
    },
    {
      "cell_type": "code",
      "source": [
        "sns.boxplot(train['Amount (Million Naira)'])"
      ],
      "metadata": {
        "colab": {
          "base_uri": "https://localhost:8080/",
          "height": 351
        },
        "id": "74VaqBR2Vok9",
        "outputId": "c385d2bc-842f-4c89-f5cb-31e47d5e498e"
      },
      "id": "74VaqBR2Vok9",
      "execution_count": 123,
      "outputs": [
        {
          "output_type": "stream",
          "name": "stderr",
          "text": [
            "/usr/local/lib/python3.7/dist-packages/seaborn/_decorators.py:43: FutureWarning: Pass the following variable as a keyword arg: x. From version 0.12, the only valid positional argument will be `data`, and passing other arguments without an explicit keyword will result in an error or misinterpretation.\n",
            "  FutureWarning\n"
          ]
        },
        {
          "output_type": "execute_result",
          "data": {
            "text/plain": [
              "<matplotlib.axes._subplots.AxesSubplot at 0x7faf99276290>"
            ]
          },
          "metadata": {},
          "execution_count": 123
        },
        {
          "output_type": "display_data",
          "data": {
            "text/plain": [
              "<Figure size 432x288 with 1 Axes>"
            ],
            "image/png": "[encoded data removed]"
          },
          "metadata": {
            "needs_background": "light"
          }
        }
      ]
    },
    {
      "cell_type": "code",
      "source": [
        "mid_amount =  train.loc[train['Amount (Million Naira)'] <= 20, 'Amount (Million Naira)'].median()"
      ],
      "metadata": {
        "id": "pm2vwar1VvGm"
      },
      "id": "pm2vwar1VvGm",
      "execution_count": 124,
      "outputs": []
    },
    {
      "cell_type": "code",
      "source": [
        "train.loc[train['Amount (Million Naira)'] > 20, 'Amount (Million Naira)']= np.nan"
      ],
      "metadata": {
        "id": "Va4xPaTzVvZH"
      },
      "id": "Va4xPaTzVvZH",
      "execution_count": 125,
      "outputs": []
    },
    {
      "cell_type": "code",
      "source": [
        "train['Amount (Million Naira)'].fillna(mid_amount, inplace = True)"
      ],
      "metadata": {
        "id": "HH0B4Z-iVvmp"
      },
      "id": "HH0B4Z-iVvmp",
      "execution_count": 126,
      "outputs": []
    },
    {
      "cell_type": "code",
      "source": [
        "sns.boxplot(train['Amount (Million Naira)'])"
      ],
      "metadata": {
        "colab": {
          "base_uri": "https://localhost:8080/",
          "height": 351
        },
        "id": "bY4HzUL7Vvym",
        "outputId": "be09fc0e-7514-4c90-ab27-0427f15cb371"
      },
      "id": "bY4HzUL7Vvym",
      "execution_count": 127,
      "outputs": [
        {
          "output_type": "stream",
          "name": "stderr",
          "text": [
            "/usr/local/lib/python3.7/dist-packages/seaborn/_decorators.py:43: FutureWarning: Pass the following variable as a keyword arg: x. From version 0.12, the only valid positional argument will be `data`, and passing other arguments without an explicit keyword will result in an error or misinterpretation.\n",
            "  FutureWarning\n"
          ]
        },
        {
          "output_type": "execute_result",
          "data": {
            "text/plain": [
              "<matplotlib.axes._subplots.AxesSubplot at 0x7faf98e8d350>"
            ]
          },
          "metadata": {},
          "execution_count": 127
        },
        {
          "output_type": "display_data",
          "data": {
            "text/plain": [
              "<Figure size 432x288 with 1 Axes>"
            ],
            "image/png": "[encoded data removed]"
          },
          "metadata": {
            "needs_background": "light"
          }
        }
      ]
    },
    {
      "cell_type": "code",
      "source": [
        "train.head()"
      ],
      "metadata": {
        "colab": {
          "base_uri": "https://localhost:8080/",
          "height": 250
        },
        "id": "R3WqCbWnTUrC",
        "outputId": "3c0f0c22-298e-42e9-e3b2-f288dfc0d4d4"
      },
      "id": "R3WqCbWnTUrC",
      "execution_count": 128,
      "outputs": [
        {
          "output_type": "execute_result",
          "data": {
            "text/plain": [
              "  VehicleID Location          Maker                Model   Year  Colour  \\\n",
              "0  VHL12546    Abuja          Honda  Accord Coupe EX V-6  2,011  Silver   \n",
              "1  VHL18827   Ibadan        Hyundai               Sonata  2,012  Silver   \n",
              "2  VHL19499    Lagos          Lexus               RX 350  2,010     Red   \n",
              "3  VHL17991    Abuja  Mercedes-Benz            GLE-Class  2,017    Blue   \n",
              "4  VHL12170   Ibadan         Toyota           Highlander  2,002     Red   \n",
              "\n",
              "   Amount (Million Naira)           Type Distance  \n",
              "0                    2.20  Nigerian Used      NaN  \n",
              "1                    3.50  Nigerian Used  125,000  \n",
              "2                    9.20   Foreign Used  110,852  \n",
              "3                    5.06   Foreign Used   30,000  \n",
              "4                    2.60  Nigerian Used  125,206  "
            ],
            "text/html": [
              "\n",
              "  <div id=\"df-b178b97e-05ad-4617-9282-92445c0ab6d5\">\n",
              "    <div class=\"colab-df-container\">\n",
              "      <div>\n",
              "<style scoped>\n",
              "    .dataframe tbody tr th:only-of-type {\n",
              "        vertical-align: middle;\n",
              "    }\n",
              "\n",
              "    .dataframe tbody tr th {\n",
              "        vertical-align: top;\n",
              "    }\n",
              "\n",
              "    .dataframe thead th {\n",
              "        text-align: right;\n",
              "    }\n",
              "</style>\n",
              "<table border=\"1\" class=\"dataframe\">\n",
              "  <thead>\n",
              "    <tr style=\"text-align: right;\">\n",
              "      <th></th>\n",
              "      <th>VehicleID</th>\n",
              "      <th>Location</th>\n",
              "      <th>Maker</th>\n",
              "      <th>Model</th>\n",
              "      <th>Year</th>\n",
              "      <th>Colour</th>\n",
              "      <th>Amount (Million Naira)</th>\n",
              "      <th>Type</th>\n",
              "      <th>Distance</th>\n",
              "    </tr>\n",
              "  </thead>\n",
              "  <tbody>\n",
              "    <tr>\n",
              "      <th>0</th>\n",
              "      <td>VHL12546</td>\n",
              "      <td>Abuja</td>\n",
              "      <td>Honda</td>\n",
              "      <td>Accord Coupe EX V-6</td>\n",
              "      <td>2,011</td>\n",
              "      <td>Silver</td>\n",
              "      <td>2.20</td>\n",
              "      <td>Nigerian Used</td>\n",
              "      <td>NaN</td>\n",
              "    </tr>\n",
              "    <tr>\n",
              "      <th>1</th>\n",
              "      <td>VHL18827</td>\n",
              "      <td>Ibadan</td>\n",
              "      <td>Hyundai</td>\n",
              "      <td>Sonata</td>\n",
              "      <td>2,012</td>\n",
              "      <td>Silver</td>\n",
              "      <td>3.50</td>\n",
              "      <td>Nigerian Used</td>\n",
              "      <td>125,000</td>\n",
              "    </tr>\n",
              "    <tr>\n",
              "      <th>2</th>\n",
              "      <td>VHL19499</td>\n",
              "      <td>Lagos</td>\n",
              "      <td>Lexus</td>\n",
              "      <td>RX 350</td>\n",
              "      <td>2,010</td>\n",
              "      <td>Red</td>\n",
              "      <td>9.20</td>\n",
              "      <td>Foreign Used</td>\n",
              "      <td>110,852</td>\n",
              "    </tr>\n",
              "    <tr>\n",
              "      <th>3</th>\n",
              "      <td>VHL17991</td>\n",
              "      <td>Abuja</td>\n",
              "      <td>Mercedes-Benz</td>\n",
              "      <td>GLE-Class</td>\n",
              "      <td>2,017</td>\n",
              "      <td>Blue</td>\n",
              "      <td>5.06</td>\n",
              "      <td>Foreign Used</td>\n",
              "      <td>30,000</td>\n",
              "    </tr>\n",
              "    <tr>\n",
              "      <th>4</th>\n",
              "      <td>VHL12170</td>\n",
              "      <td>Ibadan</td>\n",
              "      <td>Toyota</td>\n",
              "      <td>Highlander</td>\n",
              "      <td>2,002</td>\n",
              "      <td>Red</td>\n",
              "      <td>2.60</td>\n",
              "      <td>Nigerian Used</td>\n",
              "      <td>125,206</td>\n",
              "    </tr>\n",
              "  </tbody>\n",
              "</table>\n",
              "</div>\n",
              "      <button class=\"colab-df-convert\" onclick=\"convertToInteractive('df-b178b97e-05ad-4617-9282-92445c0ab6d5')\"\n",
              "              title=\"Convert this dataframe to an interactive table.\"\n",
              "              style=\"display:none;\">\n",
              "        \n",
              "  <svg xmlns=\"http://www.w3.org/2000/svg\" height=\"24px\"viewBox=\"0 0 24 24\"\n",
              "       width=\"24px\">\n",
              "    <path d=\"M0 0h24v24H0V0z\" fill=\"none\"/>\n",
              "    <path d=\"M18.56 5.44l.94 2.06.94-2.06 2.06-.94-2.06-.94-.94-2.06-.94 2.06-2.06.94zm-11 1L8.5 8.5l.94-2.06 2.06-.94-2.06-.94L8.5 2.5l-.94 2.06-2.06.94zm10 10l.94 2.06.94-2.06 2.06-.94-2.06-.94-.94-2.06-.94 2.06-2.06.94z\"/><path d=\"M17.41 7.96l-1.37-1.37c-.4-.4-.92-.59-1.43-.59-.52 0-1.04.2-1.43.59L10.3 9.45l-7.72 7.72c-.78.78-.78 2.05 0 2.83L4 21.41c.39.39.9.59 1.41.59.51 0 1.02-.2 1.41-.59l7.78-7.78 2.81-2.81c.8-.78.8-2.07 0-2.86zM5.41 20L4 18.59l7.72-7.72 1.47 1.35L5.41 20z\"/>\n",
              "  </svg>\n",
              "      </button>\n",
              "      \n",
              "  <style>\n",
              "    .colab-df-container {\n",
              "      display:flex;\n",
              "      flex-wrap:wrap;\n",
              "      gap: 12px;\n",
              "    }\n",
              "\n",
              "    .colab-df-convert {\n",
              "      background-color: #E8F0FE;\n",
              "      border: none;\n",
              "      border-radius: 50%;\n",
              "      cursor: pointer;\n",
              "      display: none;\n",
              "      fill: #1967D2;\n",
              "      height: 32px;\n",
              "      padding: 0 0 0 0;\n",
              "      width: 32px;\n",
              "    }\n",
              "\n",
              "    .colab-df-convert:hover {\n",
              "      background-color: #E2EBFA;\n",
              "      box-shadow: 0px 1px 2px rgba(60, 64, 67, 0.3), 0px 1px 3px 1px rgba(60, 64, 67, 0.15);\n",
              "      fill: #174EA6;\n",
              "    }\n",
              "\n",
              "    [theme=dark] .colab-df-convert {\n",
              "      background-color: #3B4455;\n",
              "      fill: #D2E3FC;\n",
              "    }\n",
              "\n",
              "    [theme=dark] .colab-df-convert:hover {\n",
              "      background-color: #434B5C;\n",
              "      box-shadow: 0px 1px 3px 1px rgba(0, 0, 0, 0.15);\n",
              "      filter: drop-shadow(0px 1px 2px rgba(0, 0, 0, 0.3));\n",
              "      fill: #FFFFFF;\n",
              "    }\n",
              "  </style>\n",
              "\n",
              "      <script>\n",
              "        const buttonEl =\n",
              "          document.querySelector('#df-b178b97e-05ad-4617-9282-92445c0ab6d5 button.colab-df-convert');\n",
              "        buttonEl.style.display =\n",
              "          google.colab.kernel.accessAllowed ? 'block' : 'none';\n",
              "\n",
              "        async function convertToInteractive(key) {\n",
              "          const element = document.querySelector('#df-b178b97e-05ad-4617-9282-92445c0ab6d5');\n",
              "          const dataTable =\n",
              "            await google.colab.kernel.invokeFunction('convertToInteractive',\n",
              "                                                     [key], {});\n",
              "          if (!dataTable) return;\n",
              "\n",
              "          const docLinkHtml = 'Like what you see? Visit the ' +\n",
              "            '<a target=\"_blank\" href=https://colab.research.google.com/notebooks/data_table.ipynb>data table notebook</a>'\n",
              "            + ' to learn more about interactive tables.';\n",
              "          element.innerHTML = '';\n",
              "          dataTable['output_type'] = 'display_data';\n",
              "          await google.colab.output.renderOutput(dataTable, element);\n",
              "          const docLink = document.createElement('div');\n",
              "          docLink.innerHTML = docLinkHtml;\n",
              "          element.appendChild(docLink);\n",
              "        }\n",
              "      </script>\n",
              "    </div>\n",
              "  </div>\n",
              "  "
            ]
          },
          "metadata": {},
          "execution_count": 128
        }
      ]
    },
    {
      "cell_type": "code",
      "source": [
        "train['Year_2'] = train.Year.str.replace(',','').astype(float)\n",
        "train['Distance_2'] = train.Distance.str.replace(',',\"\").astype(float)\n",
        "test['Year_2'] = test.Year.str.replace(',',\"\").astype(float)"
      ],
      "metadata": {
        "trusted": true,
        "id": "c5821568"
      },
      "execution_count": 129,
      "outputs": [],
      "id": "c5821568"
    },
    {
      "cell_type": "code",
      "source": [
        "cat_features = {\n",
        "    \"Location\",\n",
        "    \"Maker\",\n",
        "    \"Model\",\n",
        "    \"Colour\",\n",
        "    \"Type\"\n",
        "}\n",
        "\n",
        "\n",
        "for cat_feature in cat_features:\n",
        "  print(cat_feature, test[cat_feature].unique(), sep=\":\")\n",
        "  print(\"#\"*50)"
      ],
      "metadata": {
        "trusted": true,
        "colab": {
          "base_uri": "https://localhost:8080/"
        },
        "id": "355b2741",
        "outputId": "1320ac96-1cf1-4769-b381-69ec165d7837"
      },
      "execution_count": 130,
      "outputs": [
        {
          "output_type": "stream",
          "name": "stdout",
          "text": [
            "Model:['323i' 'Camry' 'Highlander Limited V6' 'ES 350 FWD' 'GLE-Class'\n",
            " 'Sienna LE 4dr' 'ES 350' 'CR-V' 'RAV4 XLE FWD' 'RX' 'Sequoia'\n",
            " '4-Runner Limited' 'Corolla LE' 'Accord' 'Highlander SE' 'Vibe AWD'\n",
            " 'RX 350 F Sport FWD' 'Creta' 'Range Rover Vogue' 'E320'\n",
            " 'Land Cruiser Prado' 'Sonata' 'Sienna' '4-Runner Limited 4WD' 'C300'\n",
            " 'E350' 'L200 Double Cab 2.5 136hp' 'Avalon XLE Plus (3.5L 6cyl 6A)'\n",
            " '4-Runner' 'RX 330' 'Touareg' 'GX 460 Base' 'GL-Class' 'M Class'\n",
            " 'M Class ML 350 4Matic' 'GLK-Class' 'ES' 'Corolla' 'TLX' 'LX 570 Base'\n",
            " 'Hilux' 'RX 350' 'IS 350' 'Premacy' 'Venza XLE AWD V6' 'RX 350 AWD'\n",
            " 'E300' 'Edge SE 4dr FWD (3.5L 6cyl 6A)' 'Corolla CE' 'Venza AWD' 'Xj'\n",
            " 'Zafira' 'Highlander 3' 'Camry SE FWD (2.5L 4cyl 8AM)' 'X5 3.0i'\n",
            " 'Genesis' 'RVR' 'X3 xDrive30i AWD' 'Highlander XLE V6 4x2 (3.5L 6cyl 6A)'\n",
            " 'RX 300' 'Venza' 'GX 460' 'EX 35' 'S-Class S 63 AMG 4MATIC (W222)'\n",
            " 'C-Class C 350 (S204)' 'Venza V6' 'S-Class' 'Sienna LE AWD'\n",
            " 'Highlander Limited 3.5L 2WD' 'Santa Fe GLS' 'Sharan Automatic'\n",
            " 'MDX Base SH-AWD' 'Kia Sorento' 'Civic LX Sedan'\n",
            " 'Range Rover Sport HSE Lux' 'Santa Fe' 'Corolla 1.4 Advanced'\n",
            " 'Tacoma 4x4 Access Cab' 'CLA-Class' 'LX 570 AWD' 'GX 470 Sport Utility'\n",
            " '407 2 HDi FAP Esplanade' 'X6' 'Explorer' 'GLS-Class GLS550 4Matic'\n",
            " '4-Runner Limited 4x4' 'Avensis 2 Advanced Automatic' 'Hilux SR 4x4'\n",
            " 'Land Cruiser Prado 3 D-4D 3dr' 'Rover LR3 SE' 'Sonata 2.4 Automatic'\n",
            " 'Golf' 'Highlander Limited FWD' 'C-Class C 450 AMG 4MATIC (S205)'\n",
            " 'RAV4 Automatic' 'Land Cruiser Prado 3 190hp' 'GL Class' 'F-150' 'Tacoma'\n",
            " 'RAV4' 'NX' 'LX 570 (5 Seats) AWD' 'Fusion' 'Hilux 2 VVT-i SRX'\n",
            " 'Highlander XLE 4x4 V6 (3.5L 6cyl 8A)' 'GS'\n",
            " 'Tacoma Regular Cab Automatic' 'RX 350 XE 4x4' 'Ix35' '6 Series'\n",
            " 'GLC-Class' 'Outlander' 'GLS-Class GLS350d 4Matic' 'LX' 'Tundra'\n",
            " 'Civic Sedan EX Automatic' 'GLK-Class 350 4MATIC' 'Previa'\n",
            " 'GX 460 Luxury' 'E550' '4-Runner Limited V6 4x4' 'Sienna LE 7 Passenger'\n",
            " 'Highlander' 'IS' 'RX 350 FWD' 'Versa' 'Escape XLS Automatic'\n",
            " 'Sorento 3.3L SXL FWD' 'Accord Automatic' 'Land Cruiser 5.7 V8 VXR'\n",
            " 'Highlander 3.5L 4WD' 'LX 570' 'CR-V 2.4 EX 4x4 Automatic'\n",
            " 'Corolla LE Eco (1.8L 4cyl 2A)' 'RAV4 XLE AWD' 'Vibe' 'Elantra'\n",
            " 'Element EX 4WD' 'Avalon Touring' 'Sienna XLE' 'Highlander Limited' 'GX'\n",
            " 'RAV4 2.4' 'MDX' 'Sunny' 'C350' 'Camaro LS Coupe' 'Avalon' 'Land Cruiser'\n",
            " 'GLS-Class GLS450 4MATIC' 'Shuttle 2.2 2WD' 'Corolla 1.8 VVTL-i TS'\n",
            " 'G-Class G 63 AMG 4MATIC' 'Edge' 'ES 330 Sedan' '508'\n",
            " 'RAV4 XLE AWD (2.5L 4cyl 6A)' 'Cadillac Escalade Matt' 'GL-Class GL 450'\n",
            " 'S-Class S 550' 'CR-V EX AWD' 'Corolla SE (1.8L 4cyl 6M)' 'IS 250'\n",
            " 'Ibiza' 'Sienna XLE Limited FWD' 'Cerato' 'Tacoma Double Cab V6 4WD'\n",
            " 'Elantra GLS Automatic' 'RX 300 4WD' 'Highlander Limited V6 FWD' 'Civic'\n",
            " 'ES 300' 'RC 350 AWD' 'RAV4 2.5 Sport' 'IS 250 AWD Automatic'\n",
            " 'A4 2.0T Premium Quattro' 'RAV4 1.8' 'Venza V6 AWD' 'X6 xDrive35i AWD'\n",
            " 'Matrix' 'S-Class Maybach S 560 (X222)' 'Avalon 3' 'C-Hr XLE FWD'\n",
            " 'Venza Limited AWD V6' 'E63' 'Sentra' 'I8 1.5 Roadster' 'ES 330'\n",
            " 'Civic 1.8 5 Door Automatic' 'Corolla Sedan Automatic'\n",
            " 'RX 350L Luxury AWD' 'Camry XLE V6 (3.5L V6 8A)' 'Cayenne' 'RAV4 2 4x4'\n",
            " 'Camaro' 'Tacoma Double Cab V6 Automatic' 'Tacoma 4x4 Double Cab'\n",
            " 'Passat 2 Sedan' 'Pilot EX 4x2 (3.5L 6cyl 5A)' 'Highlander Base AWD'\n",
            " 'Charger RT' 'Rover Lr3 V6' 'Tacoma Double Cab V6' 'Sportage 2 L 4WD'\n",
            " 'Accord 3.5 EX-L Automatic' 'Tacoma Access Cab'\n",
            " 'Sienna XLE FWD (3.3L V6 5A)' 'CLS 55 AMG' 'Rover Discovery'\n",
            " 'Tribute i 4WD Automatic' 'Accent' 'Highlander Sport' 'Avensis 2 D Verso'\n",
            " 'GX 470' 'Solara 3 Convertible' 'Sienna LE' 'BMW 116i'\n",
            " 'RAV4 2.5 Limited 4x4' 'Camry LE FWD (2.5L 4cyl 8AM)' 'GLK-Class 350'\n",
            " 'Range Rover Evoque Off' 'RX 330 4WD' 'RAV4 Limited V6 4x4' 'QX56'\n",
            " 'Pilot' 'Land Cruiser Prado 2.7' '528i' 'Focus 1.8 TDDi Viva' '3 Series'\n",
            " 'M3' '5' 'Civic 1.6i ES Automatic' 'Tundra Double Cab 4x4 Limited'\n",
            " 'Land Cruiser Prado 4' 'Range Rover Velar P380 SE R-Dynamic 4x4'\n",
            " 'M Class ML 320' 'Pick-Up' 'A5' 'E430' 'CX-9' '330i' 'RAV4 Limited 4x4'\n",
            " 'Odyssey 2.4 Absolute 4WD' 'Rio' 'Rav4' 'Highlander XLE FWD' 'CLS'\n",
            " 'Highlander Limited V6 4x4' 'GL Class GL 450' 'Sienna LE FWD'\n",
            " 'CX-9 Grand Touring' 'Range Rover Sport'\n",
            " 'Land Cruiser Prado 4 V6 Dual VVT-i' 'IS 250 4WD' 'X5'\n",
            " 'Land Cruiser 4.5 V8 VXR' 'MDX SUV 4dr AWD (3.7 6cyl 5A)'\n",
            " 'Corolla 1.6 VVT-i Sol' 'Range Rover' 'Hilux 2 VVT-i' 'NX 200t FWD'\n",
            " '6 Wagon' 'CX-9 Touring AWD' 'Jetta' '328i' 'GS 300 Automatic'\n",
            " 'Pathfinder' 'Ridgeline' 'Hilux 2.8 Diesel' 'Highlander V6'\n",
            " 'Tundra 4x4 SR5 Access Cab' '7 Series' 'C230' 'M Class ML 350 TEC 4Matic'\n",
            " 'R Class' 'Accent SE' 'E-350' 'Accord Sedan EX-L'\n",
            " 'Camry XSE V6 (3.5L V6 8A)' 'IS 350 RWD' 'GLA 250'\n",
            " 'Highlander Limited 3.5l 4WD' 'RX 350 2WD' 'Escape' 'NX 200 FWD' 'TL'\n",
            " 'Hilux SR5+ 4x4' 'Tacoma Access Cab I4 AWD' 'Accord EX V6 Automatic'\n",
            " 'Land Cruiser Prado GX' 'XF Premium' 'RAV4 2.5' 'Veloster' 'G-Class'\n",
            " 'RX 350L 4WD' 'CC' 'RX 400h AWD' '530i' 'Soul' '307' 'RX 350 4WD'\n",
            " 'Veracruz' 'MDX 4dr SUV (3.5L 6cyl 6A)' 'GMC Terrain'\n",
            " 'Camry SE (2.5L 4cyl 8A)' '206 1.4 D' 'Accord Sedan EX Automatic'\n",
            " 'Touran' 'ES 350 Ultra Luxury FWD' 'Venza LE AWD' 'CR-V EX 4WD Automatic'\n",
            " 'Accord 2.4 Exec Automatic' 'Altima' '406' 'RX 350 4x4' 'Sienna CE'\n",
            " 'Edge SE 4dr AWD (2.0L 4cyl 6A)' 'Forte EX'\n",
            " 'Golf 1.6 Comfortline Automatic' 'Sonic LS'\n",
            " 'Pilot EX 4dr SUV (3.5L 6cyl 5A)' 'F-150 FX2' 'RAV4 LE AWD'\n",
            " '6 3.0s Sport Wagon Touring' 'Galaxy 1.9 TDI Trend' 'Avalon XLS'\n",
            " 'Pathfinder Automatic' 'Hilux 2.7 VVT-i 4X4 SRX' 'Duster'\n",
            " 'Sienna LE FWD 8-Passenger' 'Beetle 2 Highline Automatic'\n",
            " 'Tacoma X-Runner V6' 'CR-V EX Automatic' '6' 'X-Trail Automatic' 'C450'\n",
            " 'Avensis' 'Pilot LX 4dr SUV (3.5L 6cyl 5A)' 'NX 200t AWD' 'Xterra SE'\n",
            " 'IS 250 AWD' 'S Class' '626' 'Caliber 1.8' 'Land Cruiser J300 4'\n",
            " 'Range Rover Evoque Pure Plus AWD' 'GX 460 Premium' 'Lincoln Navigator'\n",
            " 'Accord 2.4' 'HiAce' 'Jetta 2.5 SEL' '407 2 Esplanade' 'GLA-Class'\n",
            " 'Crown Royale' 'Accord Crosstour' 'Sienna CE AWD' 'Sienna LE 8 Passenger'\n",
            " 'Venza XLE AWD' 'Land Cruiser Prado 2.7 VVT-i' 'LS 460' 'Taurus'\n",
            " 'Range Rover Velar' 'GLS-Class GLS450 4Matic' 'LS 460 Luxury Sedan'\n",
            " 'Tundra Double Cab' 'Ghibli' 'Gx300' '335i' 'Camry 2.4 LE' 'Focus' '450'\n",
            " 'Passat' 'RX 350 F Sport AWD' 'C400' 'Highlander Limited V6 AWD'\n",
            " 'Caravan' 'ES 350 Crafted Line FWD' 'Sorento' 'Range Rover Evoque Matt'\n",
            " 'Camry 2.3 Hybrid' 'X3' 'C-Hr' 'X-Trail 2.5 4x4' 'Jetta 2.0T Sedan'\n",
            " 'ZDX Base AWD' 'MDX Tech & A-Spec Pkgs SH-AWD' 'Corolla 1.6 VVT-i'\n",
            " 'RAV4 XLE FWD (2.5L 4cyl 6A)' 'Camry Off' 'Accord 2.2 DTEC Estate'\n",
            " 'Land Cruiser Prado 4 I' 'Tacoma Access Cab V6 Automatic'\n",
            " '300 Limited RWD' 'Tacoma SR5' 'A8 4.2 Quattro'\n",
            " '4-Runner SR5 4x4 Premium' '300 Touring RWD 3.5'\n",
            " 'Corolla SE (1.8L 4cyl 2A)' 'Corolla 1.8' 'Camry 2.4 SE'\n",
            " 'Hilux 2.5 D-4d SRX' 'Highlander 4x4' 'Sienna XLE 8 Passenger' 'Ducato'\n",
            " 'Caravan Cargo Van' 'Land Cruiser 5.7 V8' 'X3 xDrive 30i' 'Venza LE FWD'\n",
            " 'E400' 'SC Cabriolet' 'A-Class' 'Corolla LE (1.8L 4cyl 2A)'\n",
            " 'Camry Hybrid' 'Avensis 1.6 VVT-i' 'Accord 2.0i Automatic'\n",
            " 'Rogue S Krom Edition' 'Montero 3.5 AWD' 'S-Class S 450 4MATIC (W221)'\n",
            " 'Camry Automatic' 'Vibe 1.8L' 'A6' 'Impreza' 'X1 xDrive28i AWD'\n",
            " 'Range Rover Evoque' 'GLE-Class Matt' 'Almera' 'Optima' 'Highlander XLE'\n",
            " 'Veloster Automatic' '4-Runner Limited 4X4' 'Rover Freelander' 'MKX'\n",
            " 'Golf GTI 2.0T SE' '406 2 HDi ST' 'GS 300 AWD' 'Vibe Automatic' 'Z4'\n",
            " 'RAV4 V6' 'Cooper' 'xD Base' 'C320' 'Enclave CXL AWD'\n",
            " 'Edge Sport 4dr AWD' 'RAV4 Limited' 'Camry XLE FWD (2.5L 4cyl 8AM)' 'X1'\n",
            " 'Rolls-Royce Cullinan Base' '206' 'Corolla Matt' 'Highlander Limited AWD'\n",
            " 'Previa 2.4 Sol' 'A4' 'Land Cruiser 4.5 V8 GXR' 'TT' 'XC90 4.4 Exec 4WD'\n",
            " 'Liberty' 'Venture' 'Yaris Sedan Automatic' 'CR-V LX AWD' 'Sharan 1.8 T'\n",
            " 'Land Cruiser 4 V6 GX-R' 'Honda CR-V Touring AWD' 'Frontier'\n",
            " 'Zafira 1.8 Automatic' 'E500' 'Hilux 2.7 VVTi 4x4 SRX' 'Odyssey EX-L'\n",
            " 'Hilux SR5 4x4' 'X1 xDrive28i' 'QX80' 'SLK Class'\n",
            " 'Land Cruiser 5.7 V8 VX-S' 'Sienna XLE 7 Passenger' 'F-Pace 25t AWD'\n",
            " 'Cooper S' 'Altima Automatic' 'Venza LE AWD V6' 'Qashqai' 'XC90 3.2'\n",
            " '407 2 ST Comfort' 'Range Rover Velar P380 HSE R-Dynamic 4x4' 'Mkx'\n",
            " 'Vibe 2.4 4WD' 'MKS EcoBoost' 'Solara' 'GLS-Class GLS63 AMG Base'\n",
            " 'Lamborghini Huracan Evo' 'RAV4 3.5 4x4' 'Civic LX Hatchback'\n",
            " 'Santa Fe 2.7 Automatic' 'Corolla Verso 1.8'\n",
            " 'RAV4 LE 4dr SUV (2.5L 4cyl 6A)' 'Highlander Base FWD' 'Odyssey 2.4 4WD'\n",
            " 'Accord Sedan LX' 'Land Rover Discovery' 'Brabus Rocket 900'\n",
            " 'Solara 2.2 Coupe' 'Sentra 2 SL' 'Gs' 'Sienna LE FWD (3.3L V6 5A)'\n",
            " 'Corolla Sedan' 'LX 470 AWD' 'Harrier' 'Escape Off' 'A6 3.2'\n",
            " 'Previa 2.4 GL 7-Seater' 'XJ' 'Land Cruiser 4 V6 GXR' 'Pajero'\n",
            " 'MDX W/Advance Pkg SH-AWD' 'GX 460 Premium Matt' 'ES 350 Luxury'\n",
            " 'Avensis Liftback' '407 2 Automatic' '408' 'S-Class Matt' 'RX 400h'\n",
            " '4-Runner SR5 4x4' 'RAV4 2 VVT-i' 'Beetle 2.5L'\n",
            " 'Corolla XSE (1.8L 4cyl 2A)' '4-Runner Limited V6'\n",
            " 'Pilot EX 4x4 (3.5L 6cyl 5A)' 'A8 L 4.2 Quattro' 'Camry 2.4 SE Automatic'\n",
            " 'RAV4 3.5 Sport 4x4' 'Tundra Automatic' 'Civic EX Sedan' '540i' '407'\n",
            " 'Land Cruiser 4x4' 'CL' 'Beetle' 'RAV4 XLE Premium AWD' 'Camry XLE FWD'\n",
            " 'FR-S 10 Series' 'Pathfinder Platinum 4x4' 'Avalon Limited'\n",
            " 'Land Cruiser 4.6 V8 GXR' 'Caliber 1.8 L SE' 'Accord Sedan EX'\n",
            " 'Matrix Hatchback 1.8 16V AWD' 'Solara 3.3 Convertible'\n",
            " 'LX 570 Three-Row' '230E' 'SLK-Class' 'RX 300 2WD' 'Camry LE FWD'\n",
            " 'Land Cruiser Prado 3 D-4d (190 Hp)' 'Range Rover Velar P340 S 4x4'\n",
            " 'Endeavor SE' 'Escape S 4dr SUV (2.5L 4cyl 6A)' 'Accord 2.4 EX' 'Micra'\n",
            " 'RAV4 LE FWD (2.5L 4cyl 6A)' 'X3 xDrive28i' 'Tacoma PreRunner'\n",
            " '6 2.5i Sport' 'C180' 'Titan' '4-Runner SR5' 'HS 250h' 'Tucson'\n",
            " 'Avalon XLS Buckets' 'ES 330 Off' 'TL Automatic' 'RAV4 Limited V6'\n",
            " 'BMW 7 Series' 'Accord 2.4 Executive' 'RX 330 AWD' 'Malibu LS'\n",
            " 'RX 350 F SPORT AWD' '6 2 MZR Automatic' 'Cube 1.8 S CVT'\n",
            " '4-Runner Trail' 'C250' 'Accord Coupe 3.5 EX-L V6' 'Highlander Sport 4x4'\n",
            " '308 CC 1.6' 'Land Cruiser Prado GXL' 'Q7' 'Tacoma TRD Off Road'\n",
            " 'Charger' 'Q5' 'IS 350 AWD' 'Torrent']\n",
            "##################################################\n",
            "Location:['Abuja' 'Lagos' 'Ibadan']\n",
            "##################################################\n",
            "Maker:['BMW' 'Toyota' 'Lexus' 'Mercedes-Benz' 'Honda' 'Pontiac' 'Hyundai'\n",
            " 'Land Rover' 'Mitsubishi' 'Volkswagen' 'Acura' 'Mazda' 'Ford' 'Jaguar'\n",
            " 'Opel' 'Infiniti' 'Kia' 'Peugeot' 'Nissan' 'Chevrolet' 'Cadillac' 'Seat'\n",
            " 'Audi' 'Porsche' 'Dodge' 'GMC' 'Renault' 'Lincoln' 'Maserati' 'Chrysler'\n",
            " 'Fiat' 'Subaru' 'Mini' 'Scion' 'Buick' 'Rolls-Royce' 'Volvo' 'Jeep'\n",
            " 'Lamborghini' 'Brabus']\n",
            "##################################################\n",
            "Type:['Foreign Used' 'Nigerian Used' 'Brand New' nan]\n",
            "##################################################\n",
            "Colour:['White' 'Gold' 'Gray' 'Red' 'Black' 'Blue' 'Silver' 'Brown' 'Green'\n",
            " 'Purple' 'Beige' 'Burgandy' 'Auto' 'Cream' 'Pink' 'Yellow' 'V' 'Teal']\n",
            "##################################################\n"
          ]
        }
      ],
      "id": "355b2741"
    },
    {
      "cell_type": "code",
      "source": [
        "categories = {\n",
        "    \"Location\",\n",
        "    \"Maker\",\n",
        "    \"Model\",\n",
        "    \"Colour\",\n",
        "    \"Type\"\n",
        "}"
      ],
      "metadata": {
        "trusted": true,
        "id": "e261cfa5"
      },
      "execution_count": 131,
      "outputs": [],
      "id": "e261cfa5"
    },
    {
      "cell_type": "code",
      "source": [
        "for cat in categories:\n",
        "  print(cat, train[cat].unique(), sep=\":\")\n",
        "  print(\"#\"*50)"
      ],
      "metadata": {
        "trusted": true,
        "colab": {
          "base_uri": "https://localhost:8080/"
        },
        "id": "f1538e31-364f-4280-aa3c-a3858b25201d",
        "outputId": "33ac73bd-8fa3-4ea7-989d-3c2b86914ffa"
      },
      "execution_count": 132,
      "outputs": [
        {
          "output_type": "stream",
          "name": "stdout",
          "text": [
            "Model:['Accord Coupe EX V-6' 'Sonata' 'RX 350' ... 'Almera 1.6 Lux'\n",
            " 'X5 3.0i Sports Activity' '320i SV Premium']\n",
            "##################################################\n",
            "Location:['Abuja' 'Ibadan' 'Lagos']\n",
            "##################################################\n",
            "Maker:['Honda' 'Hyundai' 'Lexus' 'Mercedes-Benz' 'Toyota' 'Acura' 'Dodge'\n",
            " 'Nissan' 'Kia' 'BMW' 'Volvo' 'Ford' 'Land Rover' 'Lincoln' 'Peugeot'\n",
            " 'Chevrolet' 'Audi' 'Jaguar' 'Infiniti' 'Porsche' 'Fiat' 'Maserati'\n",
            " 'Volkswagen' 'Suzuki' 'Bentley' 'GAC' 'Mazda' 'Scion' 'Renault'\n",
            " 'Mitsubishi' 'Mini' 'Pontiac' 'Cadillac' 'Ferrari' 'Jeep' 'Buick'\n",
            " 'Rolls-Royce' 'GMC' 'Chrysler' 'Lamborghini' 'Citroen' 'King' 'BAW'\n",
            " 'Saturn' 'Tata' 'Opel' 'JAC' 'MG' 'Hummer' 'Subaru' 'Rover' 'Saab'\n",
            " 'Skoda' 'IVM' 'Brabus']\n",
            "##################################################\n",
            "Type:['Nigerian Used' 'Foreign Used' 'Brand New' nan]\n",
            "##################################################\n",
            "Colour:['Silver' 'Red' 'Blue' 'Black' 'Gold' 'White' 'Gray' 'Burgandy' 'Green'\n",
            " 'Violet' 'Brown' 'Yellow' 'Orange' 'Pink' 'Beige' 'Purple' 'Ivory' 'G'\n",
            " 'Teal' 'Mica' 'Pearl']\n",
            "##################################################\n"
          ]
        }
      ],
      "id": "f1538e31-364f-4280-aa3c-a3858b25201d"
    },
    {
      "cell_type": "code",
      "source": [
        "train[\"Type\"].fillna(train[\"Type\"].mode()[0], inplace=True)\n",
        "train[\"Year_2\"].fillna(train[\"Year_2\"].mode()[0], inplace=True)\n",
        "\n",
        "test[\"Type\"].fillna(train[\"Type\"].mode()[0], inplace=True)\n",
        "test[\"Year_2\"].fillna(train[\"Year_2\"].mode()[0], inplace=True)"
      ],
      "metadata": {
        "trusted": true,
        "id": "a07f659d"
      },
      "execution_count": 133,
      "outputs": [],
      "id": "a07f659d"
    },
    {
      "cell_type": "code",
      "source": [
        "train[\"Amount (Million Naira)\"].fillna(train[\"Amount (Million Naira)\"].mean(), inplace=True)"
      ],
      "metadata": {
        "trusted": true,
        "id": "2e26c6fb"
      },
      "execution_count": 134,
      "outputs": [],
      "id": "2e26c6fb"
    },
    {
      "cell_type": "code",
      "source": [
        "train[\"Distance_2\"].fillna(train[\"Distance_2\"].mean(), inplace=True)\n",
        "\n",
        "test[\"Distance\"].fillna(train[\"Distance_2\"].mean(), inplace=True)"
      ],
      "metadata": {
        "trusted": true,
        "id": "0dd5e1ea"
      },
      "execution_count": 135,
      "outputs": [],
      "id": "0dd5e1ea"
    },
    {
      "cell_type": "code",
      "source": [
        "test.rename(columns={'Distance':'Distance_2'}, inplace=True)"
      ],
      "metadata": {
        "trusted": true,
        "id": "20cf0566"
      },
      "execution_count": 136,
      "outputs": [],
      "id": "20cf0566"
    },
    {
      "cell_type": "code",
      "source": [
        "X = train.drop(['Amount (Million Naira)', 'Year', 'VehicleID', 'Distance'], axis=1)\n",
        "y = train['Amount (Million Naira)']"
      ],
      "metadata": {
        "trusted": true,
        "id": "930902b0"
      },
      "execution_count": 137,
      "outputs": [],
      "id": "930902b0"
    },
    {
      "cell_type": "code",
      "source": [
        "X_train, X_test, y_train, y_test = train_test_split(X, y, test_size=0.3, random_state=42)"
      ],
      "metadata": {
        "trusted": true,
        "id": "5e90f974"
      },
      "execution_count": 152,
      "outputs": [],
      "id": "5e90f974"
    },
    {
      "cell_type": "code",
      "source": [
        "lbl = LabelEncoder()\n",
        "columns = [\"Location\", \"Maker\", 'Model', \"Colour\", \"Type\"]\n",
        "\n",
        "X_train_encode = X_train[columns].apply(lbl.fit_transform)"
      ],
      "metadata": {
        "trusted": true,
        "id": "0c23e3b5"
      },
      "execution_count": 153,
      "outputs": [],
      "id": "0c23e3b5"
    },
    {
      "cell_type": "code",
      "source": [
        "X_test_encode = X_test[columns].apply(lbl.fit_transform)\n",
        "\n",
        "test_encode = test[columns].apply(lbl.fit_transform)"
      ],
      "metadata": {
        "trusted": true,
        "id": "11da36eb"
      },
      "execution_count": 154,
      "outputs": [],
      "id": "11da36eb"
    },
    {
      "cell_type": "code",
      "source": [
        "X_train.head()"
      ],
      "metadata": {
        "trusted": true,
        "colab": {
          "base_uri": "https://localhost:8080/",
          "height": 206
        },
        "id": "2438b14c",
        "outputId": "936e09ea-f4c3-4e7f-8ad3-85e5272ba485"
      },
      "execution_count": 155,
      "outputs": [
        {
          "output_type": "execute_result",
          "data": {
            "text/plain": [
              "     Location          Maker               Model Colour           Type  \\\n",
              "1224    Lagos          Lexus            IS 350 C  White   Foreign Used   \n",
              "142     Abuja        Peugeot                 206   Blue  Nigerian Used   \n",
              "1490    Abuja  Mercedes-Benz  M Class ML 350 4x2  Black   Foreign Used   \n",
              "6221   Ibadan          Lexus              ES 330  White   Foreign Used   \n",
              "2666   Ibadan         Toyota          Corolla LE  Black  Nigerian Used   \n",
              "\n",
              "      Year_2     Distance_2  \n",
              "1224  2010.0   68253.000000  \n",
              "142   2005.0  103198.903612  \n",
              "1490  2013.0   37800.000000  \n",
              "6221  2005.0  145000.000000  \n",
              "2666  2007.0  103198.903612  "
            ],
            "text/html": [
              "\n",
              "  <div id=\"df-96ec8a35-4579-45f3-9b21-1fd8d45504c0\">\n",
              "    <div class=\"colab-df-container\">\n",
              "      <div>\n",
              "<style scoped>\n",
              "    .dataframe tbody tr th:only-of-type {\n",
              "        vertical-align: middle;\n",
              "    }\n",
              "\n",
              "    .dataframe tbody tr th {\n",
              "        vertical-align: top;\n",
              "    }\n",
              "\n",
              "    .dataframe thead th {\n",
              "        text-align: right;\n",
              "    }\n",
              "</style>\n",
              "<table border=\"1\" class=\"dataframe\">\n",
              "  <thead>\n",
              "    <tr style=\"text-align: right;\">\n",
              "      <th></th>\n",
              "      <th>Location</th>\n",
              "      <th>Maker</th>\n",
              "      <th>Model</th>\n",
              "      <th>Colour</th>\n",
              "      <th>Type</th>\n",
              "      <th>Year_2</th>\n",
              "      <th>Distance_2</th>\n",
              "    </tr>\n",
              "  </thead>\n",
              "  <tbody>\n",
              "    <tr>\n",
              "      <th>1224</th>\n",
              "      <td>Lagos</td>\n",
              "      <td>Lexus</td>\n",
              "      <td>IS 350 C</td>\n",
              "      <td>White</td>\n",
              "      <td>Foreign Used</td>\n",
              "      <td>2010.0</td>\n",
              "      <td>68253.000000</td>\n",
              "    </tr>\n",
              "    <tr>\n",
              "      <th>142</th>\n",
              "      <td>Abuja</td>\n",
              "      <td>Peugeot</td>\n",
              "      <td>206</td>\n",
              "      <td>Blue</td>\n",
              "      <td>Nigerian Used</td>\n",
              "      <td>2005.0</td>\n",
              "      <td>103198.903612</td>\n",
              "    </tr>\n",
              "    <tr>\n",
              "      <th>1490</th>\n",
              "      <td>Abuja</td>\n",
              "      <td>Mercedes-Benz</td>\n",
              "      <td>M Class ML 350 4x2</td>\n",
              "      <td>Black</td>\n",
              "      <td>Foreign Used</td>\n",
              "      <td>2013.0</td>\n",
              "      <td>37800.000000</td>\n",
              "    </tr>\n",
              "    <tr>\n",
              "      <th>6221</th>\n",
              "      <td>Ibadan</td>\n",
              "      <td>Lexus</td>\n",
              "      <td>ES 330</td>\n",
              "      <td>White</td>\n",
              "      <td>Foreign Used</td>\n",
              "      <td>2005.0</td>\n",
              "      <td>145000.000000</td>\n",
              "    </tr>\n",
              "    <tr>\n",
              "      <th>2666</th>\n",
              "      <td>Ibadan</td>\n",
              "      <td>Toyota</td>\n",
              "      <td>Corolla LE</td>\n",
              "      <td>Black</td>\n",
              "      <td>Nigerian Used</td>\n",
              "      <td>2007.0</td>\n",
              "      <td>103198.903612</td>\n",
              "    </tr>\n",
              "  </tbody>\n",
              "</table>\n",
              "</div>\n",
              "      <button class=\"colab-df-convert\" onclick=\"convertToInteractive('df-96ec8a35-4579-45f3-9b21-1fd8d45504c0')\"\n",
              "              title=\"Convert this dataframe to an interactive table.\"\n",
              "              style=\"display:none;\">\n",
              "        \n",
              "  <svg xmlns=\"http://www.w3.org/2000/svg\" height=\"24px\"viewBox=\"0 0 24 24\"\n",
              "       width=\"24px\">\n",
              "    <path d=\"M0 0h24v24H0V0z\" fill=\"none\"/>\n",
              "    <path d=\"M18.56 5.44l.94 2.06.94-2.06 2.06-.94-2.06-.94-.94-2.06-.94 2.06-2.06.94zm-11 1L8.5 8.5l.94-2.06 2.06-.94-2.06-.94L8.5 2.5l-.94 2.06-2.06.94zm10 10l.94 2.06.94-2.06 2.06-.94-2.06-.94-.94-2.06-.94 2.06-2.06.94z\"/><path d=\"M17.41 7.96l-1.37-1.37c-.4-.4-.92-.59-1.43-.59-.52 0-1.04.2-1.43.59L10.3 9.45l-7.72 7.72c-.78.78-.78 2.05 0 2.83L4 21.41c.39.39.9.59 1.41.59.51 0 1.02-.2 1.41-.59l7.78-7.78 2.81-2.81c.8-.78.8-2.07 0-2.86zM5.41 20L4 18.59l7.72-7.72 1.47 1.35L5.41 20z\"/>\n",
              "  </svg>\n",
              "      </button>\n",
              "      \n",
              "  <style>\n",
              "    .colab-df-container {\n",
              "      display:flex;\n",
              "      flex-wrap:wrap;\n",
              "      gap: 12px;\n",
              "    }\n",
              "\n",
              "    .colab-df-convert {\n",
              "      background-color: #E8F0FE;\n",
              "      border: none;\n",
              "      border-radius: 50%;\n",
              "      cursor: pointer;\n",
              "      display: none;\n",
              "      fill: #1967D2;\n",
              "      height: 32px;\n",
              "      padding: 0 0 0 0;\n",
              "      width: 32px;\n",
              "    }\n",
              "\n",
              "    .colab-df-convert:hover {\n",
              "      background-color: #E2EBFA;\n",
              "      box-shadow: 0px 1px 2px rgba(60, 64, 67, 0.3), 0px 1px 3px 1px rgba(60, 64, 67, 0.15);\n",
              "      fill: #174EA6;\n",
              "    }\n",
              "\n",
              "    [theme=dark] .colab-df-convert {\n",
              "      background-color: #3B4455;\n",
              "      fill: #D2E3FC;\n",
              "    }\n",
              "\n",
              "    [theme=dark] .colab-df-convert:hover {\n",
              "      background-color: #434B5C;\n",
              "      box-shadow: 0px 1px 3px 1px rgba(0, 0, 0, 0.15);\n",
              "      filter: drop-shadow(0px 1px 2px rgba(0, 0, 0, 0.3));\n",
              "      fill: #FFFFFF;\n",
              "    }\n",
              "  </style>\n",
              "\n",
              "      <script>\n",
              "        const buttonEl =\n",
              "          document.querySelector('#df-96ec8a35-4579-45f3-9b21-1fd8d45504c0 button.colab-df-convert');\n",
              "        buttonEl.style.display =\n",
              "          google.colab.kernel.accessAllowed ? 'block' : 'none';\n",
              "\n",
              "        async function convertToInteractive(key) {\n",
              "          const element = document.querySelector('#df-96ec8a35-4579-45f3-9b21-1fd8d45504c0');\n",
              "          const dataTable =\n",
              "            await google.colab.kernel.invokeFunction('convertToInteractive',\n",
              "                                                     [key], {});\n",
              "          if (!dataTable) return;\n",
              "\n",
              "          const docLinkHtml = 'Like what you see? Visit the ' +\n",
              "            '<a target=\"_blank\" href=https://colab.research.google.com/notebooks/data_table.ipynb>data table notebook</a>'\n",
              "            + ' to learn more about interactive tables.';\n",
              "          element.innerHTML = '';\n",
              "          dataTable['output_type'] = 'display_data';\n",
              "          await google.colab.output.renderOutput(dataTable, element);\n",
              "          const docLink = document.createElement('div');\n",
              "          docLink.innerHTML = docLinkHtml;\n",
              "          element.appendChild(docLink);\n",
              "        }\n",
              "      </script>\n",
              "    </div>\n",
              "  </div>\n",
              "  "
            ]
          },
          "metadata": {},
          "execution_count": 155
        }
      ],
      "id": "2438b14c"
    },
    {
      "cell_type": "code",
      "source": [
        "X_train_new = pd.concat([X_train_encode, X_train[['Distance_2', 'Year_2']]], axis=1)\n",
        "X_train_new.shape"
      ],
      "metadata": {
        "trusted": true,
        "colab": {
          "base_uri": "https://localhost:8080/"
        },
        "id": "2a2f1dec",
        "outputId": "23cf87c6-de3e-402e-e61f-4122fc8d7719"
      },
      "execution_count": 156,
      "outputs": [
        {
          "output_type": "execute_result",
          "data": {
            "text/plain": [
              "(5043, 7)"
            ]
          },
          "metadata": {},
          "execution_count": 156
        }
      ],
      "id": "2a2f1dec"
    },
    {
      "cell_type": "code",
      "source": [
        "X_test_new = pd.concat([X_test_encode, X_test[['Distance_2', 'Year_2']]], axis=1)\n",
        "test_new = pd.concat([test_encode, test[['Distance_2', 'Year_2']]], axis=1)"
      ],
      "metadata": {
        "trusted": true,
        "id": "addc11ac"
      },
      "execution_count": 157,
      "outputs": [],
      "id": "addc11ac"
    },
    {
      "cell_type": "code",
      "source": [
        "X_train_new.head()"
      ],
      "metadata": {
        "trusted": true,
        "colab": {
          "base_uri": "https://localhost:8080/",
          "height": 206
        },
        "id": "f79dcb4c",
        "outputId": "ff36b780-0432-4b8e-b3f2-87b0bce7dab5"
      },
      "execution_count": 158,
      "outputs": [
        {
          "output_type": "execute_result",
          "data": {
            "text/plain": [
              "      Location  Maker  Model  Colour  Type     Distance_2  Year_2\n",
              "1224         2     29    531      19     1   68253.000000  2010.0\n",
              "142          0     39      2       2     2  103198.903612  2005.0\n",
              "1490         0     34    610       1     1   37800.000000  2013.0\n",
              "6221         1     29    330      19     1  145000.000000  2005.0\n",
              "2666         1     51    293       1     2  103198.903612  2007.0"
            ],
            "text/html": [
              "\n",
              "  <div id=\"df-4b8a3f01-fa35-404a-b765-40bd5a657ac1\">\n",
              "    <div class=\"colab-df-container\">\n",
              "      <div>\n",
              "<style scoped>\n",
              "    .dataframe tbody tr th:only-of-type {\n",
              "        vertical-align: middle;\n",
              "    }\n",
              "\n",
              "    .dataframe tbody tr th {\n",
              "        vertical-align: top;\n",
              "    }\n",
              "\n",
              "    .dataframe thead th {\n",
              "        text-align: right;\n",
              "    }\n",
              "</style>\n",
              "<table border=\"1\" class=\"dataframe\">\n",
              "  <thead>\n",
              "    <tr style=\"text-align: right;\">\n",
              "      <th></th>\n",
              "      <th>Location</th>\n",
              "      <th>Maker</th>\n",
              "      <th>Model</th>\n",
              "      <th>Colour</th>\n",
              "      <th>Type</th>\n",
              "      <th>Distance_2</th>\n",
              "      <th>Year_2</th>\n",
              "    </tr>\n",
              "  </thead>\n",
              "  <tbody>\n",
              "    <tr>\n",
              "      <th>1224</th>\n",
              "      <td>2</td>\n",
              "      <td>29</td>\n",
              "      <td>531</td>\n",
              "      <td>19</td>\n",
              "      <td>1</td>\n",
              "      <td>68253.000000</td>\n",
              "      <td>2010.0</td>\n",
              "    </tr>\n",
              "    <tr>\n",
              "      <th>142</th>\n",
              "      <td>0</td>\n",
              "      <td>39</td>\n",
              "      <td>2</td>\n",
              "      <td>2</td>\n",
              "      <td>2</td>\n",
              "      <td>103198.903612</td>\n",
              "      <td>2005.0</td>\n",
              "    </tr>\n",
              "    <tr>\n",
              "      <th>1490</th>\n",
              "      <td>0</td>\n",
              "      <td>34</td>\n",
              "      <td>610</td>\n",
              "      <td>1</td>\n",
              "      <td>1</td>\n",
              "      <td>37800.000000</td>\n",
              "      <td>2013.0</td>\n",
              "    </tr>\n",
              "    <tr>\n",
              "      <th>6221</th>\n",
              "      <td>1</td>\n",
              "      <td>29</td>\n",
              "      <td>330</td>\n",
              "      <td>19</td>\n",
              "      <td>1</td>\n",
              "      <td>145000.000000</td>\n",
              "      <td>2005.0</td>\n",
              "    </tr>\n",
              "    <tr>\n",
              "      <th>2666</th>\n",
              "      <td>1</td>\n",
              "      <td>51</td>\n",
              "      <td>293</td>\n",
              "      <td>1</td>\n",
              "      <td>2</td>\n",
              "      <td>103198.903612</td>\n",
              "      <td>2007.0</td>\n",
              "    </tr>\n",
              "  </tbody>\n",
              "</table>\n",
              "</div>\n",
              "      <button class=\"colab-df-convert\" onclick=\"convertToInteractive('df-4b8a3f01-fa35-404a-b765-40bd5a657ac1')\"\n",
              "              title=\"Convert this dataframe to an interactive table.\"\n",
              "              style=\"display:none;\">\n",
              "        \n",
              "  <svg xmlns=\"http://www.w3.org/2000/svg\" height=\"24px\"viewBox=\"0 0 24 24\"\n",
              "       width=\"24px\">\n",
              "    <path d=\"M0 0h24v24H0V0z\" fill=\"none\"/>\n",
              "    <path d=\"M18.56 5.44l.94 2.06.94-2.06 2.06-.94-2.06-.94-.94-2.06-.94 2.06-2.06.94zm-11 1L8.5 8.5l.94-2.06 2.06-.94-2.06-.94L8.5 2.5l-.94 2.06-2.06.94zm10 10l.94 2.06.94-2.06 2.06-.94-2.06-.94-.94-2.06-.94 2.06-2.06.94z\"/><path d=\"M17.41 7.96l-1.37-1.37c-.4-.4-.92-.59-1.43-.59-.52 0-1.04.2-1.43.59L10.3 9.45l-7.72 7.72c-.78.78-.78 2.05 0 2.83L4 21.41c.39.39.9.59 1.41.59.51 0 1.02-.2 1.41-.59l7.78-7.78 2.81-2.81c.8-.78.8-2.07 0-2.86zM5.41 20L4 18.59l7.72-7.72 1.47 1.35L5.41 20z\"/>\n",
              "  </svg>\n",
              "      </button>\n",
              "      \n",
              "  <style>\n",
              "    .colab-df-container {\n",
              "      display:flex;\n",
              "      flex-wrap:wrap;\n",
              "      gap: 12px;\n",
              "    }\n",
              "\n",
              "    .colab-df-convert {\n",
              "      background-color: #E8F0FE;\n",
              "      border: none;\n",
              "      border-radius: 50%;\n",
              "      cursor: pointer;\n",
              "      display: none;\n",
              "      fill: #1967D2;\n",
              "      height: 32px;\n",
              "      padding: 0 0 0 0;\n",
              "      width: 32px;\n",
              "    }\n",
              "\n",
              "    .colab-df-convert:hover {\n",
              "      background-color: #E2EBFA;\n",
              "      box-shadow: 0px 1px 2px rgba(60, 64, 67, 0.3), 0px 1px 3px 1px rgba(60, 64, 67, 0.15);\n",
              "      fill: #174EA6;\n",
              "    }\n",
              "\n",
              "    [theme=dark] .colab-df-convert {\n",
              "      background-color: #3B4455;\n",
              "      fill: #D2E3FC;\n",
              "    }\n",
              "\n",
              "    [theme=dark] .colab-df-convert:hover {\n",
              "      background-color: #434B5C;\n",
              "      box-shadow: 0px 1px 3px 1px rgba(0, 0, 0, 0.15);\n",
              "      filter: drop-shadow(0px 1px 2px rgba(0, 0, 0, 0.3));\n",
              "      fill: #FFFFFF;\n",
              "    }\n",
              "  </style>\n",
              "\n",
              "      <script>\n",
              "        const buttonEl =\n",
              "          document.querySelector('#df-4b8a3f01-fa35-404a-b765-40bd5a657ac1 button.colab-df-convert');\n",
              "        buttonEl.style.display =\n",
              "          google.colab.kernel.accessAllowed ? 'block' : 'none';\n",
              "\n",
              "        async function convertToInteractive(key) {\n",
              "          const element = document.querySelector('#df-4b8a3f01-fa35-404a-b765-40bd5a657ac1');\n",
              "          const dataTable =\n",
              "            await google.colab.kernel.invokeFunction('convertToInteractive',\n",
              "                                                     [key], {});\n",
              "          if (!dataTable) return;\n",
              "\n",
              "          const docLinkHtml = 'Like what you see? Visit the ' +\n",
              "            '<a target=\"_blank\" href=https://colab.research.google.com/notebooks/data_table.ipynb>data table notebook</a>'\n",
              "            + ' to learn more about interactive tables.';\n",
              "          element.innerHTML = '';\n",
              "          dataTable['output_type'] = 'display_data';\n",
              "          await google.colab.output.renderOutput(dataTable, element);\n",
              "          const docLink = document.createElement('div');\n",
              "          docLink.innerHTML = docLinkHtml;\n",
              "          element.appendChild(docLink);\n",
              "        }\n",
              "      </script>\n",
              "    </div>\n",
              "  </div>\n",
              "  "
            ]
          },
          "metadata": {},
          "execution_count": 158
        }
      ],
      "id": "f79dcb4c"
    },
    {
      "cell_type": "code",
      "source": [
        "from sklearn.ensemble import RandomForestRegressor"
      ],
      "metadata": {
        "trusted": true,
        "id": "3f6ac357-8bc0-459b-aa62-cdb86137e337"
      },
      "execution_count": 159,
      "outputs": [],
      "id": "3f6ac357-8bc0-459b-aa62-cdb86137e337"
    },
    {
      "cell_type": "code",
      "source": [
        "lr = LinearRegression()\n",
        "rf = RandomForestRegressor(random_state = 42)"
      ],
      "metadata": {
        "trusted": true,
        "id": "b8d2cace-4b17-4abf-ad8b-cd7d529ec2de"
      },
      "execution_count": 160,
      "outputs": [],
      "id": "b8d2cace-4b17-4abf-ad8b-cd7d529ec2de"
    },
    {
      "cell_type": "code",
      "source": [
        "model = VotingRegressor([('rf', rf),('lr', lr)], weights = [1,1])"
      ],
      "metadata": {
        "trusted": true,
        "id": "80ed2809-5161-4540-ad90-9f418b758f07"
      },
      "execution_count": 161,
      "outputs": [],
      "id": "80ed2809-5161-4540-ad90-9f418b758f07"
    },
    {
      "cell_type": "code",
      "source": [
        "model.fit(X_train_new, y_train)"
      ],
      "metadata": {
        "trusted": true,
        "colab": {
          "base_uri": "https://localhost:8080/"
        },
        "id": "b83d3e29-d518-4e49-936d-8a7d3b4b3835",
        "outputId": "3ac6ff00-d2f3-488a-b8fb-ecf458db10cc"
      },
      "execution_count": 162,
      "outputs": [
        {
          "output_type": "execute_result",
          "data": {
            "text/plain": [
              "VotingRegressor(estimators=[('rf', RandomForestRegressor(random_state=42)),\n",
              "                            ('lr', LinearRegression())],\n",
              "                weights=[1, 1])"
            ]
          },
          "metadata": {},
          "execution_count": 162
        }
      ],
      "id": "b83d3e29-d518-4e49-936d-8a7d3b4b3835"
    },
    {
      "cell_type": "code",
      "source": [
        "y_pred = model.predict(X_test_new)"
      ],
      "metadata": {
        "trusted": true,
        "id": "5501a1ac-705c-4f26-8da9-84ff1758a22c"
      },
      "execution_count": 163,
      "outputs": [],
      "id": "5501a1ac-705c-4f26-8da9-84ff1758a22c"
    },
    {
      "cell_type": "code",
      "source": [
        "print(mean_squared_error(y_test, y_pred)**0.5)"
      ],
      "metadata": {
        "trusted": true,
        "colab": {
          "base_uri": "https://localhost:8080/"
        },
        "id": "5e0d9a15-55ec-418c-9a63-3629b5bea6fb",
        "outputId": "e5eb76b1-c5d0-49d1-8213-9e868515f37e"
      },
      "execution_count": 164,
      "outputs": [
        {
          "output_type": "stream",
          "name": "stdout",
          "text": [
            "3.556458478438386\n"
          ]
        }
      ],
      "id": "5e0d9a15-55ec-418c-9a63-3629b5bea6fb"
    },
    {
      "cell_type": "code",
      "source": [
        "answer = model.predict(test_new)"
      ],
      "metadata": {
        "trusted": true,
        "id": "eaa6c770-210f-4266-ae0b-91cb54021d71"
      },
      "execution_count": 165,
      "outputs": [],
      "id": "eaa6c770-210f-4266-ae0b-91cb54021d71"
    },
    {
      "cell_type": "code",
      "source": [
        "answer"
      ],
      "metadata": {
        "trusted": true,
        "colab": {
          "base_uri": "https://localhost:8080/"
        },
        "id": "fee10c88-2bec-4f85-9f84-69692829dd8b",
        "outputId": "6b739c5c-7d1b-427e-97a0-1743fc990550"
      },
      "execution_count": 166,
      "outputs": [
        {
          "output_type": "execute_result",
          "data": {
            "text/plain": [
              "array([3.64621909, 6.30150084, 3.66946488, ..., 8.72872704, 6.26649501,\n",
              "       4.76907272])"
            ]
          },
          "metadata": {},
          "execution_count": 166
        }
      ],
      "id": "fee10c88-2bec-4f85-9f84-69692829dd8b"
    },
    {
      "cell_type": "code",
      "source": [
        "sample['Amount (Million Naira)'] = answer"
      ],
      "metadata": {
        "trusted": true,
        "id": "560afbf1-f664-47ea-bd97-fe7a07be8922"
      },
      "execution_count": 167,
      "outputs": [],
      "id": "560afbf1-f664-47ea-bd97-fe7a07be8922"
    },
    {
      "cell_type": "code",
      "source": [
        "sample.to_csv('Submission14.csv', index = False)"
      ],
      "metadata": {
        "trusted": true,
        "id": "727dc2b8-5e32-49c1-8375-711f5024364d"
      },
      "execution_count": 169,
      "outputs": [],
      "id": "727dc2b8-5e32-49c1-8375-711f5024364d"
    }
  ]
}